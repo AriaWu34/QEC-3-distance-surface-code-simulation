{
 "cells": [
  {
   "cell_type": "markdown",
   "metadata": {},
   "source": [
    "# Overview\n",
    "\n",
    "This notebook builds and evaluates a **distance‑3 planar surface code** in Qiskit.\n",
    "\n",
    "- Construct the d=3 layout (data qubits and stabilizer ancillas) and circuits for **single‑round** and **k‑round (space–time)** syndrome extraction.\n",
    "- Define a simple depolarising **noise model** with readout error.\n",
    "- Implement lightweight **MWPM decoders**: 2D for single‑round and 3D (space–time) for time‑differenced syndromes.\n",
    "- Run **Monte‑Carlo sweeps** over physical error rate and compare logical‑X / logical‑Z failure rates.\n",
    "- Generate a **comparison plot**: single‑round vs space–time decoding."
   ]
  },
  {
   "cell_type": "markdown",
   "metadata": {},
   "source": [
    "## Reproduce\n",
    "\n",
    "- Python ≥ 3.9\n",
    "- Install deps:\n",
    "```bash\n",
    "pip install qiskit networkx numpy matplotlib\n",
    "```\n",
    "- Then run this notebook top‑to‑bottom. For a quick demo, keep the defaults; for a longer run, increase `shots` in the **Simulation** section.\n"
   ]
  },
  {
   "cell_type": "code",
   "execution_count": 44,
   "metadata": {},
   "outputs": [],
   "source": [
    "# d=3 planar code: 3x3 data qubits, 4 X- and 4 Z-stabilizers (ancillas)\n",
    "\n",
    "from qiskit import QuantumRegister, ClassicalRegister, QuantumCircuit, transpile\n",
    "from qiskit_aer import AerSimulator\n",
    "from qiskit_aer.noise import NoiseModel\n",
    "from qiskit_aer.noise.errors import depolarizing_error, ReadoutError\n",
    "import numpy as np\n",
    "import networkx as nx\n",
    "import matplotlib.pyplot as plt"
   ]
  },
  {
   "cell_type": "markdown",
   "metadata": {},
   "source": [
    "## Table of Contents\n",
    "\n",
    "- [1. Data Structure](#data)\n",
    "- [2. Syndrome Extraction](#syndrome)\n",
    "- [3. Depolarising Noise Model](#noise)\n",
    "- [4. MWPM Decoder Scaffold](#decoder)\n",
    "- [5. Evaluation Metrics](#eval)\n",
    "- [6. Simulations](#sim)"
   ]
  },
  {
   "cell_type": "markdown",
   "metadata": {},
   "source": [
    "<a id=\"data\"></a>\n",
    "# 1. Data Structure\n",
    "\n",
    "Define the d=3 planar code geometry: map data‑qubit indices on a 3×3 grid, list the four 2×2 plaquettes."
   ]
  },
  {
   "cell_type": "code",
   "execution_count": 45,
   "metadata": {},
   "outputs": [],
   "source": [
    "# map (r,c) -> linear index 0..8 for data qubits\n",
    "def d_idx(r, c): \n",
    "    return 3*r + c  # rows 0..2, cols 0..2\n",
    "\n",
    "# each X and Z plaquette touches a 2x2 block of data qubits\n",
    "PLAQS = [\n",
    "    [(0,0),(0,1),(1,0),(1,1)],\n",
    "    [(0,1),(0,2),(1,1),(1,2)],\n",
    "    [(1,0),(1,1),(2,0),(2,1)],\n",
    "    [(1,1),(1,2),(2,1),(2,2)],\n",
    "]"
   ]
  },
  {
   "cell_type": "markdown",
   "metadata": {},
   "source": [
    "# 2. Syndrome Extraction\n",
    "<a id=\"syndrome\"></a>"
   ]
  },
  {
   "cell_type": "markdown",
   "metadata": {},
   "source": [
    "Syndrome Extraction (one round)"
   ]
  },
  {
   "cell_type": "code",
   "execution_count": 46,
   "metadata": {},
   "outputs": [],
   "source": [
    "def one_round_surface_d3():\n",
    "    \"\"\"\n",
    "    Returns a circuit with:\n",
    "      - 9 data qubits\n",
    "      - 4 X-ancillas (indices 9..12), 4 Z-ancillas (indices 13..16)\n",
    "      - 8 classical bits storing [X syndromes | Z syndromes]\n",
    "    \"\"\"\n",
    "    n_data = 9\n",
    "    n_x = 4\n",
    "    n_z = 4\n",
    "    x_start = n_data                  # 9..12\n",
    "    z_start = n_data + n_x            # 13..16\n",
    "\n",
    "    qreg = QuantumRegister(n_data + n_x + n_z, \"q\")\n",
    "    creg = ClassicalRegister(n_x + n_z, \"syn\")  # [X | Z]\n",
    "    qc = QuantumCircuit(qreg, creg)\n",
    "\n",
    "    # --- X stabilizers (measure XXXX) ---\n",
    "    for s, plaq in enumerate(PLAQS):\n",
    "        a = x_start + s  # ancilla index\n",
    "        qc.h(a)          # prepare |+>\n",
    "        for (r,c) in plaq:\n",
    "            qc.cx(a, d_idx(r,c))      # CNOT ancilla -> data (parity of X)\n",
    "        qc.h(a)                       # return to Z basis\n",
    "        qc.measure(a, s)              # measure into syn[0..3]\n",
    "\n",
    "    # --- Z stabilizers (measure ZZZZ) ---\n",
    "    for s, plaq in enumerate(PLAQS):\n",
    "        a = z_start + s\n",
    "        for (r,c) in plaq:\n",
    "            qc.cx(d_idx(r,c), a)      # parity of Z\n",
    "        qc.measure(a, n_x + s)        # measure into syn[4..7]\n",
    "\n",
    "    return qc"
   ]
  },
  {
   "cell_type": "markdown",
   "metadata": {},
   "source": [
    "Syndrome Extraction (space-time encdoing of k rounds) "
   ]
  },
  {
   "cell_type": "code",
   "execution_count": 47,
   "metadata": {},
   "outputs": [],
   "source": [
    "# Space-time encoding ensures each round’s ancilla starts clean; XOR of consecutive rounds isolates whether \n",
    "# changes came from data errors (flip persists in space) or measurement errors (flip only in time)."
   ]
  },
  {
   "cell_type": "code",
   "execution_count": 48,
   "metadata": {},
   "outputs": [],
   "source": [
    "# same constants\n",
    "n_data, n_x, n_z = 9, 4, 4\n",
    "x_start = n_data          # 9..12\n",
    "z_start = n_data + n_x    # 13..16\n",
    "\n",
    "def k_rounds_surface_d3(k: int) -> QuantumCircuit:\n",
    "    \"\"\"\n",
    "    Build d=3 planar surface-code circuit with k rounds of syndrome extraction.\n",
    "    \"\"\"\n",
    "    qreg = QuantumRegister(n_data + n_x + n_z, \"q\")\n",
    "    qc = QuantumCircuit(qreg)\n",
    "\n",
    "    for r in range(k):\n",
    "        # simple memory error opportunity on data (lets 'id' pick up depolarizing)\n",
    "        for q in range(9): \n",
    "            qc.id(q)\n",
    "        syn = ClassicalRegister(n_x + n_z, f\"syn_{r}\")  # 8 bits for this round\n",
    "        qc.add_register(syn)\n",
    "\n",
    "        # --- X stabilizers: ancilla -> data (H, CNOTs, H, measure), reset ancilla\n",
    "        for s, plaq in enumerate(PLAQS):\n",
    "            a = x_start + s\n",
    "            qc.reset(qreg[a])\n",
    "            qc.h(qreg[a])\n",
    "            for (row, col) in plaq:\n",
    "                qc.cx(qreg[a], qreg[d_idx(row, col)])\n",
    "            qc.h(qreg[a])\n",
    "            qc.measure(qreg[a], syn[s])  # X syndrome bit s\n",
    "            # (reset done above; no reset after measure needed)\n",
    "\n",
    "        # --- Z stabilizers: data -> ancilla (CNOTs), measure, reset ancilla\n",
    "        for s, plaq in enumerate(PLAQS):\n",
    "            a = z_start + s\n",
    "            qc.reset(qreg[a])\n",
    "            for (row, col) in plaq:\n",
    "                qc.cx(qreg[d_idx(row, col)], qreg[a])\n",
    "            qc.measure(qreg[a], syn[n_x + s])  # Z syndrome bit s\n",
    "\n",
    "    return qc"
   ]
  },
  {
   "cell_type": "markdown",
   "metadata": {},
   "source": [
    "# 3. Depolarising Noise Model\n",
    "<a id=\"noise\"></a>"
   ]
  },
  {
   "cell_type": "code",
   "execution_count": 49,
   "metadata": {},
   "outputs": [],
   "source": [
    "def depol_noise_model(p1=0.005, p2=None, ro=0.02):\n",
    "    if p2 is None:\n",
    "        p2 = 2.5 * p1\n",
    "    nm = NoiseModel()\n",
    "    \n",
    "    # 1-qubit depolarizing errors\n",
    "    nm.add_all_qubit_quantum_error(depolarizing_error(p1, 1), ['id', 'h', 'x', 'sx'])\n",
    "    # 2-qubit depolarizing errors\n",
    "    nm.add_all_qubit_quantum_error(depolarizing_error(p2, 2), ['cx'])\n",
    "    \n",
    "    # 1-qubit readout error (must add per qubit)\n",
    "    ro_err = ReadoutError([[1-ro, ro], [ro, 1-ro]])\n",
    "    ancillas = list(range(9, 17))\n",
    "    for q in ancillas:\n",
    "        nm.add_readout_error(ro_err, [q])  # add individually\n",
    "    \n",
    "    return nm"
   ]
  },
  {
   "cell_type": "markdown",
   "metadata": {},
   "source": [
    "# 4. MWPM Decoder Scaffold\n",
    "<a id=\"decoder\"></a>"
   ]
  },
  {
   "cell_type": "code",
   "execution_count": 50,
   "metadata": {},
   "outputs": [],
   "source": [
    "# Minimum-Weight Perfect Matching tries to pair up all defects with the shortest possible correction paths.\n",
    "# Each defect is represented as a node in a graph and edge weights = “cost” (distance) between two defects.\n",
    "# If have an odd number of defects, add a boundary node (B).\n",
    "\n",
    "# e.g. (a0, a3) — connect defect 0 to defect 3 with a correction chain.\n",
    "#      (a2, B) — connect defect 2 to the nearest boundary."
   ]
  },
  {
   "cell_type": "code",
   "execution_count": 51,
   "metadata": {},
   "outputs": [],
   "source": [
    "# Pseudocode\n",
    "# INPUT: Zbits from last round (4 bits, one per Z plaquette)\n",
    "# 1. Find defects = indices of '1' bits\n",
    "# 2. Make graph G, nodes = defect labels ('a0', 'a1', ...)\n",
    "# 3. If odd number of defects → add boundary node 'B'\n",
    "# 4. Connect all pairs with edges weighted by distance\n",
    "# 5. Run MWPM → get matched pairs\n",
    "# 6. These pairs = correction paths to apply"
   ]
  },
  {
   "cell_type": "code",
   "execution_count": 52,
   "metadata": {},
   "outputs": [],
   "source": [
    "# ancilla positions for the 4 plaquettes (both X and Z stabilizers share geometry on d=3)\n",
    "# centers at (row+0.5, col+0.5) for the four 2x2 blocks:\n",
    "ANC_POS = [(0.5,0.5), (0.5,1.5), (1.5,0.5), (1.5,1.5)]  # indices 0..3\n",
    "\n",
    "# boundaries:\n",
    "TOP_Y, BOT_Y = -0.5, 2.5          # rough (Z-syndrome → correct X errors → logical X)\n",
    "LEFT_X, RIGHT_X = -0.5, 2.5       # smooth (X-syndrome → correct Z errors → logical Z)\n",
    "GRID_SPAN = 3.0                   # distance across the code (rows or cols 0..2 → span ~3)"
   ]
  },
  {
   "cell_type": "code",
   "execution_count": 53,
   "metadata": {},
   "outputs": [],
   "source": [
    "# helpers\n",
    "\n",
    "def split_into_rounds(bitstr: str, k: int) -> list[str]:\n",
    "    \"\"\"Split concatenated classical bits into k chunks of 8 bits (X then Z for each round).\"\"\"\n",
    "    s = bitstr.replace(' ', '')[::-1]     # Qiskit returns little-endian\n",
    "    return [s[i*8:(i+1)*8] for i in range(k)]\n",
    "\n",
    "def parse_round_bits(round_bits: str, n_x: int = 4) -> tuple[str, str]:\n",
    "    \"\"\"Return (X_bits, Z_bits) for one round-string of length 8.\"\"\"\n",
    "    Xs = round_bits[:n_x]\n",
    "    Zs = round_bits[n_x:]\n",
    "    return Xs, Zs\n",
    "\n",
    "def defects_from_bits(bits):\n",
    "    \"\"\"Indices (0..3) where syndrome==1.\"\"\"\n",
    "    return [i for i, b in enumerate(bits) if b == '1']\n",
    "\n",
    "def spacetime_defects(full_bitstr: str, k: int, n_x: int = 4):\n",
    "    \"\"\"\n",
    "    Build defect lists for Z- and X-syndromes by XORing consecutive rounds.\n",
    "    Returns:\n",
    "      defects_Z: list[(anc_idx, t)]   # Z-syndrome flips → correct X errors → logical-X test\n",
    "      defects_X: list[(anc_idx, t)]   # X-syndrome flips → correct Z errors → logical-Z test\n",
    "    \"\"\"\n",
    "    rounds = split_into_rounds(full_bitstr, k)\n",
    "    syn = np.array([[int(b) for b in rb] for rb in rounds])  # shape (k, 8)\n",
    "\n",
    "    defects_Z, defects_X = [], []\n",
    "    for t in range(k - 1):\n",
    "        # Z part (last 4 bits): detect flips across time\n",
    "        z_prev = syn[t,   n_x:]\n",
    "        z_next = syn[t+1, n_x:]\n",
    "        diffZ = (z_prev != z_next)\n",
    "        for i, d in enumerate(diffZ):\n",
    "            if d:\n",
    "                defects_Z.append((i, t))\n",
    "\n",
    "        # X part (first 4 bits)\n",
    "        x_prev = syn[t,   :n_x]\n",
    "        x_next = syn[t+1, :n_x]\n",
    "        diffX = (x_prev != x_next)\n",
    "        for i, d in enumerate(diffX):\n",
    "            if d:\n",
    "                defects_X.append((i, t))\n",
    "\n",
    "    return defects_Z, defects_X"
   ]
  },
  {
   "cell_type": "markdown",
   "metadata": {},
   "source": [
    "2D MWPM"
   ]
  },
  {
   "cell_type": "code",
   "execution_count": 54,
   "metadata": {},
   "outputs": [],
   "source": [
    "# 2d MWPM\n",
    "\n",
    "def manhattan(p, q):\n",
    "    return abs(p[0]-q[0]) + abs(p[1]-q[1])\n",
    "\n",
    "def distance_to_vertical_boundary(pos):\n",
    "    \"\"\"Distance to nearest TOP/BOTTOM boundary (use y).\"\"\"\n",
    "    return min(abs(pos[0]-TOP_Y), abs(pos[0]-BOT_Y))\n",
    "\n",
    "def distance_to_horizontal_boundary(pos):\n",
    "    \"\"\"Distance to nearest LEFT/RIGHT boundary (use x).\"\"\"\n",
    "    return min(abs(pos[1]-LEFT_X), abs(pos[1]-RIGHT_X))\n",
    "\n",
    "def mwpm_pairs(defect_idxs, boundary_mode):\n",
    "    \"\"\"\n",
    "    defect_idxs: list of ancilla indices 0..3\n",
    "    boundary_mode: 'vertical' (TOP/BOTTOM) or 'horizontal' (LEFT/RIGHT)\n",
    "    returns list of pairs, nodes are 'a{i}' or 'B' (virtual boundary)\n",
    "    \"\"\"\n",
    "    \n",
    "    if not defect_idxs:\n",
    "        return [] \n",
    "\n",
    "    G = nx.Graph()\n",
    "    nodes = [f\"a{i}\" for i in defect_idxs]\n",
    "    for u in nodes: G.add_node(u)\n",
    "\n",
    "    # add boundary node for odd count\n",
    "    add_B = (len(nodes) % 2 == 1)\n",
    "    if add_B:\n",
    "        G.add_node('B')\n",
    "\n",
    "    # complete graph among defects\n",
    "    for i,u in enumerate(nodes):\n",
    "        for j,v in enumerate(nodes):\n",
    "            if j <= i: continue\n",
    "            w = manhattan(ANC_POS[int(u[1:])], ANC_POS[int(v[1:])])\n",
    "            G.add_edge(u, v, weight=w)\n",
    "\n",
    "    # connect defects to boundary with appropriate distance\n",
    "    if add_B:\n",
    "        for u in nodes:\n",
    "            pos = ANC_POS[int(u[1:])]\n",
    "            w = (distance_to_vertical_boundary(pos) if boundary_mode == 'vertical' \n",
    "                 else distance_to_horizontal_boundary(pos))\n",
    "            G.add_edge(u, 'B', weight=w)\n",
    "\n",
    "    matching = nx.algorithms.matching.min_weight_matching(G, weight=\"weight\")\n",
    "    if not matching:\n",
    "        return []\n",
    "\n",
    "    # matching is a set of 2-tuples or frozensets; normalize to list of tuples\n",
    "    pairs = []\n",
    "    for e in matching:\n",
    "        if len(e) != 2:    # just in case\n",
    "            continue\n",
    "        u, v = tuple(e)    # works for tuple or frozenset\n",
    "        pairs.append((u, v))\n",
    "    return pairs"
   ]
  },
  {
   "cell_type": "markdown",
   "metadata": {},
   "source": [
    "3D MWPM with Space-time Encoding"
   ]
  },
  {
   "cell_type": "code",
   "execution_count": 55,
   "metadata": {},
   "outputs": [],
   "source": [
    "# 3d MWPM with space-time encoding\n",
    "\n",
    "def ancilla_pos_3d(idx: int, t: int):\n",
    "    r, c = ANC_POS[idx]\n",
    "    return (r, c, t)\n",
    "\n",
    "def mwpm_3d(defects: list[tuple[int,int]], boundary_mode: str, k: int):\n",
    "    \"\"\"\n",
    "    defects: [(anc_idx, t)] with anc_idx in {0..3}, t in {0..k-2}\n",
    "    boundary_mode: 'vertical' (for Z-syndrome → X errors) or 'horizontal' (for X-syndrome → Z errors)\n",
    "    returns list of matched pairs; nodes are 'a{idx}_t{t}' or 'B' (boundary)\n",
    "    \"\"\"\n",
    "    G = nx.Graph()\n",
    "    nodes = [f\"a{a}_t{t}\" for (a, t) in defects]\n",
    "    for u in nodes: G.add_node(u)\n",
    "\n",
    "    # add virtual boundary if odd number of nodes\n",
    "    if len(nodes) % 2 == 1:\n",
    "        G.add_node('B')\n",
    "\n",
    "    # complete graph among defects with L1 distance in space-time\n",
    "    for i, u in enumerate(nodes):\n",
    "        for j, v in enumerate(nodes):\n",
    "            if j <= i: continue\n",
    "            ai, ti = map(int, (u.split('_')[0][1:], u.split('_')[1][1:]))\n",
    "            aj, tj = map(int, (v.split('_')[0][1:], v.split('_')[1][1:]))\n",
    "            (ri, ci, ti), (rj, cj, tj) = ancilla_pos_3d(ai, ti), ancilla_pos_3d(aj, tj)\n",
    "            w = abs(ri - rj) + abs(ci - cj) + abs(ti - tj)\n",
    "            G.add_edge(u, v, weight=w)\n",
    "\n",
    "    # connect to spatial boundary (not temporal; shots are fixed-length)\n",
    "    if 'B' in G.nodes:\n",
    "        for u in nodes:\n",
    "            ai, ti = map(int, (u.split('_')[0][1:], u.split('_')[1][1:]))\n",
    "            r, c = ANC_POS[ai]\n",
    "            if boundary_mode == 'vertical':\n",
    "                w = min(abs(r - TOP_Y), abs(r - BOT_Y))\n",
    "            else:\n",
    "                w = min(abs(c - LEFT_X), abs(c - RIGHT_X))\n",
    "            G.add_edge(u, 'B', weight=w)\n",
    "\n",
    "    matching = nx.algorithms.matching.min_weight_matching(G, weight=\"weight\")\n",
    "    return list(matching) if matching is not None else []"
   ]
  },
  {
   "cell_type": "code",
   "execution_count": 56,
   "metadata": {},
   "outputs": [],
   "source": [
    "def correction_spans_code(pairs, boundary_mode: str) -> bool:\n",
    "    \"\"\"\n",
    "    crude homology test for d=3:\n",
    "    return True if any correction pair likely spans across the code in the relevant direction.\n",
    "    \"\"\"\n",
    "    for u, v in pairs:\n",
    "        def axis(node):\n",
    "            if node == 'B':\n",
    "                return TOP_Y if boundary_mode == 'vertical' else LEFT_X\n",
    "            idx = int(node.split('_')[0][1:])\n",
    "            pos = ANC_POS[idx]\n",
    "            return pos[0] if boundary_mode == 'vertical' else pos[1]\n",
    "\n",
    "        a, b = axis(u), axis(v)\n",
    "        if abs(a - b) >= (GRID_SPAN - 1.0):\n",
    "            return True\n",
    "    return False"
   ]
  },
  {
   "cell_type": "markdown",
   "metadata": {},
   "source": [
    "Decoders"
   ]
  },
  {
   "cell_type": "code",
   "execution_count": 57,
   "metadata": {},
   "outputs": [],
   "source": [
    "def decode_one_shot(bitstr, k=1):\n",
    "    \"\"\"\n",
    "    Returns (logical_X_fail, logical_Z_fail) using the LAST round only.\n",
    "    \"\"\"\n",
    "    rounds = split_into_rounds(bitstr, k)\n",
    "    Xs, Zs = parse_round_bits(rounds[-1])  # last round\n",
    "    # Z-syndrome -> correct X errors -> logical-X test (vertical boundaries)\n",
    "    z_def = defects_from_bits(Zs)\n",
    "    pairs_xcorr = mwpm_pairs(z_def, boundary_mode='vertical')\n",
    "    logX = correction_spans_code(pairs_xcorr, boundary_mode='vertical')\n",
    "\n",
    "    # X-syndrome -> correct Z errors -> logical-Z test (horizontal boundaries)\n",
    "    x_def = defects_from_bits(Xs)\n",
    "    pairs_zcorr = mwpm_pairs(x_def, boundary_mode='horizontal')\n",
    "    logZ = correction_spans_code(pairs_zcorr, boundary_mode='horizontal')\n",
    "\n",
    "    return int(logX), int(logZ)"
   ]
  },
  {
   "cell_type": "code",
   "execution_count": 58,
   "metadata": {},
   "outputs": [],
   "source": [
    "def decode_spacetime_one_shot(bitstr: str, k: int) -> tuple[int, int]:\n",
    "    \"\"\"\n",
    "    Returns (logX, logZ): 1 if logical-X/Z failure is detected, else 0.\n",
    "    \"\"\"\n",
    "    defects_Z, defects_X = spacetime_defects(bitstr, k)\n",
    "    pairs_Z = mwpm_3d(defects_Z, boundary_mode='vertical',   k=k)   # logical-X risk\n",
    "    pairs_X = mwpm_3d(defects_X, boundary_mode='horizontal', k=k)   # logical-Z risk\n",
    "    logX = correction_spans_code(pairs_Z, 'vertical')\n",
    "    logZ = correction_spans_code(pairs_X, 'horizontal')\n",
    "    return int(logX), int(logZ)"
   ]
  },
  {
   "cell_type": "markdown",
   "metadata": {},
   "source": [
    "# 5. Evaluation Metrics\n",
    "<a id=\"eval\"></a>"
   ]
  },
  {
   "cell_type": "code",
   "execution_count": 59,
   "metadata": {},
   "outputs": [],
   "source": [
    "def logical_failure_rates_single(k=1, shots=4000, p1=0.01, ro=0.0):\n",
    "    sim = AerSimulator()\n",
    "    qc = k_rounds_surface_d3(k)\n",
    "    tc = transpile(qc, sim, basis_gates=['id','rz','sx','x','h','cx','measure'],\n",
    "                   optimization_level=1)\n",
    "    nm = depol_noise_model(p1=p1, ro=ro)  # includes readout error\n",
    "\n",
    "    res = sim.run(tc, shots=shots, noise_model=nm).result()\n",
    "    counts = res.get_counts()\n",
    "\n",
    "    failX = failZ = total = 0\n",
    "    for bitstr, n in counts.items():\n",
    "        lx, lz = decode_one_shot(bitstr, k=k)   # last-round-only decoder\n",
    "        failX += lx * n\n",
    "        failZ += lz * n\n",
    "        total += n\n",
    "    return failX/max(1,total), failZ/max(1,total)"
   ]
  },
  {
   "cell_type": "code",
   "execution_count": 60,
   "metadata": {},
   "outputs": [],
   "source": [
    "# use space-time encoding when k>=3\n",
    "\n",
    "def logical_failure_rates_spacetime(k=3, shots=4000, p1=0.01, ro=0.01):\n",
    "    sim = AerSimulator()\n",
    "    qc = k_rounds_surface_d3(k)\n",
    "    tc = transpile(qc, sim, basis_gates=['id','rz','sx','x','h','cx','measure'], optimization_level=1)\n",
    "    nm = depol_noise_model(p1=p1, ro=ro)\n",
    "\n",
    "    res = sim.run(tc, shots=shots, noise_model=nm).result()\n",
    "    counts = res.get_counts()\n",
    "\n",
    "    failX = failZ = total = 0\n",
    "    for bitstr, n in counts.items():\n",
    "        lx, lz = decode_spacetime_one_shot(bitstr, k)\n",
    "        failX += lx * n\n",
    "        failZ += lz * n\n",
    "        total += n\n",
    "\n",
    "    return failX/max(1,total), failZ/max(1,total)"
   ]
  },
  {
   "cell_type": "markdown",
   "metadata": {},
   "source": [
    "# 6. Simulations\n",
    "<a id=\"sim\"></a>"
   ]
  },
  {
   "cell_type": "markdown",
   "metadata": {},
   "source": [
    "1 Round Syndrome Extraction Simulation"
   ]
  },
  {
   "cell_type": "code",
   "execution_count": 61,
   "metadata": {},
   "outputs": [
    {
     "name": "stderr",
     "output_type": "stream",
     "text": [
      "c:\\Users\\86182\\AppData\\Local\\Programs\\Python\\Python313\\Lib\\site-packages\\qiskit\\compiler\\transpiler.py:269: UserWarning: Providing `coupling_map` and/or `basis_gates` along with `backend` is not recommended, as this will invalidate the backend's gate durations and error rates.\n",
      "  pm = generate_preset_pass_manager(\n"
     ]
    },
    {
     "name": "stdout",
     "output_type": "stream",
     "text": [
      "num distinct syndromes: 256\n",
      "  01110101  shots=  21   X=1010  Z=1110\n",
      "  11010010  shots=  16   X=0100  Z=1011\n",
      "  10000010  shots=  15   X=0100  Z=0001\n",
      "  00111110  shots=  14   X=0111  Z=1100\n",
      "  00011001  shots=  13   X=1001  Z=1000\n"
     ]
    }
   ],
   "source": [
    "sim = AerSimulator()\n",
    "basis = ['id','rz','sx','x','h','cx','measure']\n",
    "\n",
    "qc = one_round_surface_d3()\n",
    "tc = transpile(qc, sim, basis_gates=basis, optimization_level=1)\n",
    "\n",
    "noise = depol_noise_model(p1=0.01, ro=0.01)   # tweak p1 to see more/less defects\n",
    "res = sim.run(tc, shots=2000, noise_model=noise).result()\n",
    "counts = res.get_counts()\n",
    "\n",
    "print(\"num distinct syndromes:\", len(counts))\n",
    "list(counts.items())[:5]\n",
    "\n",
    "# quick parse: convert bitstring 'xxxxzzzz' -> (X_syndrome, Z_syndrome)\n",
    "def parse_syndrome(bitstr, n_x=4):\n",
    "    s = bitstr.replace(' ', '')  # just in case\n",
    "    s = s[::-1]\n",
    "    return s[:n_x], s[n_x:]\n",
    "\n",
    "# show top-5 most common syndromes\n",
    "top = sorted(counts.items(), key=lambda kv: kv[1], reverse=True)[:5]\n",
    "for bits, n in top:\n",
    "    xs, zs = parse_syndrome(bits, 4)\n",
    "    print(f\"{bits:>10}  shots={n:4d}   X={xs}  Z={zs}\")"
   ]
  },
  {
   "cell_type": "markdown",
   "metadata": {},
   "source": [
    "K Rounds Simulation (comparing single round vs space-time syndrome extraction)"
   ]
  },
  {
   "cell_type": "code",
   "execution_count": 71,
   "metadata": {},
   "outputs": [
    {
     "name": "stdout",
     "output_type": "stream",
     "text": [
      "Plot saved to image-results/6.png\n"
     ]
    },
    {
     "data": {
      "image/png": "[encoded data removed]",
      "text/plain": [
       "<Figure size 750x520 with 1 Axes>"
      ]
     },
     "metadata": {},
     "output_type": "display_data"
    }
   ],
   "source": [
    "# --- sweep + plot: single-round vs space–time (k>=3 recommended for space-time) ---\n",
    "def compare_single_vs_spacetime(p_vals, k_space_time=3, k_single=1, shots=6000, ro=0.01):\n",
    "    pLX_1, pLZ_1, pLX_ST, pLZ_ST = [], [], [], []\n",
    "    for p in p_vals:\n",
    "        # single-round baseline\n",
    "        fx1, fz1 = logical_failure_rates_single(k=k_single, shots=shots, p1=p, ro=ro)\n",
    "        pLX_1.append(fx1); pLZ_1.append(fz1)\n",
    "        # space–time (time differencing)\n",
    "        fxst, fzst = logical_failure_rates_spacetime(k=k_space_time, shots=shots, p1=p, ro=ro)\n",
    "        pLX_ST.append(fxst); pLZ_ST.append(fzst)\n",
    "    return (np.array(p_vals),\n",
    "            np.array(pLX_1), np.array(pLZ_1),\n",
    "            np.array(pLX_ST), np.array(pLZ_ST))\n",
    "\n",
    "# run the comparison\n",
    "p_vals = np.linspace(0.0, 0.08, 9)\n",
    "ps, pLX_1, pLZ_1, pLX_ST, pLZ_ST = compare_single_vs_spacetime(\n",
    "    p_vals, k_space_time=3, k_single=1, shots=8000, ro=0.01\n",
    ")\n",
    "\n",
    "# plot (optionally save)\n",
    "save_path = None  # e.g., \"image-results/1.png\"\n",
    "plt.figure(figsize=(7.5,5.2))\n",
    "plt.plot(ps, pLX_1, 'o-',  label='Logical-X (single round)')\n",
    "plt.plot(ps, pLZ_1, 's--', label='Logical-Z (single round)')\n",
    "plt.plot(ps, pLX_ST, 'o-',  linewidth=2.5, label='Logical-X (space–time, k=3)')\n",
    "plt.plot(ps, pLZ_ST, 's--', linewidth=2.5, label='Logical-Z (space–time, k=3)')\n",
    "plt.xlabel('Physical 1q depolarising probability $p_1$')\n",
    "plt.ylabel('Estimated logical failure rate (d=3)')\n",
    "plt.title('Surface code (d=3): single-round vs space–time decoding')\n",
    "plt.grid(True); plt.legend(); plt.tight_layout()\n",
    "\n",
    "if save_path:\n",
    "    import os\n",
    "    os.makedirs(os.path.dirname(save_path), exist_ok=True)\n",
    "    plt.savefig(save_path, dpi=300)\n",
    "    print(f\"Plot saved to {save_path}\")\n",
    "\n",
    "plt.show()"
   ]
  }
 ],
 "metadata": {
  "kernelspec": {
   "display_name": "Python 3",
   "language": "python",
   "name": "python3"
  },
  "language_info": {
   "codemirror_mode": {
    "name": "ipython",
    "version": 3
   },
   "file_extension": ".py",
   "mimetype": "text/x-python",
   "name": "python",
   "nbconvert_exporter": "python",
   "pygments_lexer": "ipython3",
   "version": "3.13.6"
  }
 },
 "nbformat": 4,
 "nbformat_minor": 2
}
